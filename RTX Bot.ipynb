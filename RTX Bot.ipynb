{
 "cells": [
  {
   "cell_type": "code",
   "execution_count": 16,
   "metadata": {},
   "outputs": [],
   "source": [
    "from selenium import webdriver as wd\n",
    "from selenium.webdriver.chrome.options import Options\n",
    "import chromedriver_binary\n",
    "from fake_useragent import UserAgent\n",
    "import bs4"
   ]
  },
  {
   "cell_type": "code",
   "execution_count": 17,
   "metadata": {},
   "outputs": [],
   "source": [
    "# This code was made to attempt to buy or notify atleast of an RTX 3060 Ti as quickly as possible\n",
    "# using beautiful soup, selenium, and chromedriver\n",
    "# I curated a few websites from where I can buy the card for retail and then \n",
    "# wrote the code accordingly\n",
    "# this code can be edited for any other website or product by getting\n",
    "# a hold of the link for the search results on a particular website \n",
    "# and understanding and replacing what links need to be clicked in order\n",
    "# to add it to cart\n",
    "# This bot will add it to the cart and then the user needs to login and \n",
    "# checkout for the user since I dont want to risk anyones private information\n",
    "\n",
    "# Ensure you have chrome installed and the the corresponding version of\n",
    "# chromedriver installed hint: pip install chromedriver-driver-binary-auto"
   ]
  },
  {
   "cell_type": "code",
   "execution_count": 18,
   "metadata": {},
   "outputs": [],
   "source": [
    "# The aim is to run these websites simultaneously using threading\n",
    "\n",
    "# Try Best Buy (https://www.bestbuy.com/site/searchpage.jsp?id=pcat17071&qp=gpusv_facet%3DGraphics%20Processing%20Unit%20(GPU)~NVIDIA%20GeForce%20RTX%203060&st=rtx%203060)\n",
    "# working chainsaw test best buy https://www.bestbuy.com/site/searchpage.jsp?st=chainsaw&_dyncharset=UTF-8&_dynSessConf=&id=pcat17071&type=page&sc=Global&cp=1&nrp=&sp=&qp=&list=n&af=true&iht=y&usc=All+Categories&ks=960&keys=keys\n",
    "\n",
    "# Try Amazon (https://www.amazon.com/s?k=rtx+3060+ti&i=electronics&rh=n%3A172282%2Cp_89%3AASUS%7CEVGA%7CGIGABYTE%7CMSI%7CZOTAC%2Cp_n_availability%3A2661601011&s=relevancerank&dc&crid=1EBNBNTBDGSOT&qid=1626421117&sprefix=%22rtx+3060%22%2Caps%2C215&ref=sr_st_relevancerank)\n",
    "\n",
    "# Try NewEgg (https://www.newegg.com/p/pl?d=rtx+3060+ti&N=100007709%208000)\n",
    "\n",
    "# TODO: Remember to scroll all the way down\n",
    "\n"
   ]
  },
  {
   "cell_type": "code",
   "execution_count": 19,
   "metadata": {},
   "outputs": [],
   "source": [
    "def try_bestBuy_links():\n",
    "    browser = wd.Chrome()\n",
    "    browser.get(\"https://www.bestbuy.com/site/searchpage.jsp?st=chainsaw&_dyncharset=UTF-8&_dynSessConf=&id=pcat17071&type=page&sc=Global&cp=1&nrp=&sp=&qp=&list=n&af=true&iht=y&usc=All+Categories&ks=960&keys=keys\")\n",
    "    buyButton = False\n",
    "    while not buyButton:\n",
    "        try:\n",
    "            addToCart = addButton = browser.find_element_by_class_name(\"btn-disabled\")\n",
    "            time.sleep(4)\n",
    "            browser.refresh()\n",
    "        except:\n",
    "            addToCart = addButton = browser.find_element_by_class_name(\"btn-primary\")\n",
    "            addToCart.click()\n",
    "            buyButton = True\n",
    "\n",
    "# Version 1 adds the very first available item into the cart. Version 2 might want to give user the option to pick which one to add to cart but this \n",
    "# would slow the process down and more honestly it is a little bit difficult to do on best buy due to the way the website is set up (buttons hae no href)\n",
    "\n"
   ]
  },
  {
   "cell_type": "code",
   "execution_count": 21,
   "metadata": {},
   "outputs": [],
   "source": [
    "try_bestBuy_links()"
   ]
  },
  {
   "cell_type": "code",
   "execution_count": null,
   "metadata": {},
   "outputs": [],
   "source": []
  }
 ],
 "metadata": {
  "kernelspec": {
   "display_name": "Python 3",
   "language": "python",
   "name": "python3"
  },
  "language_info": {
   "codemirror_mode": {
    "name": "ipython",
    "version": 3
   },
   "file_extension": ".py",
   "mimetype": "text/x-python",
   "name": "python",
   "nbconvert_exporter": "python",
   "pygments_lexer": "ipython3",
   "version": "3.8.5"
  }
 },
 "nbformat": 4,
 "nbformat_minor": 4
}
